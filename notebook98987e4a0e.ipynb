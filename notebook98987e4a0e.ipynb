{
 "cells": [
  {
   "cell_type": "code",
   "execution_count": 1,
   "id": "66dee93d",
   "metadata": {
    "_cell_guid": "b1076dfc-b9ad-4769-8c92-a6c4dae69d19",
    "_uuid": "8f2839f25d086af736a60e9eeb907d3b93b6e0e5",
    "execution": {
     "iopub.execute_input": "2022-01-17T07:41:50.556437Z",
     "iopub.status.busy": "2022-01-17T07:41:50.555146Z",
     "iopub.status.idle": "2022-01-17T07:41:50.565158Z",
     "shell.execute_reply": "2022-01-17T07:41:50.565679Z"
    },
    "papermill": {
     "duration": 0.020417,
     "end_time": "2022-01-17T07:41:50.566042",
     "exception": false,
     "start_time": "2022-01-17T07:41:50.545625",
     "status": "completed"
    },
    "tags": []
   },
   "outputs": [],
   "source": [
    "# This Python 3 environment comes with many helpful analytics libraries installed\n",
    "# It is defined by the kaggle/python Docker image: https://github.com/kaggle/docker-python\n",
    "# For example, here's several helpful packages to load\n",
    "\n",
    "import numpy as np # linear algebra\n",
    "import pandas as pd # data processing, CSV file I/O (e.g. pd.read_csv)\n",
    "\n",
    "# Input data files are available in the read-only \"../input/\" directory\n",
    "# For example, running this (by clicking run or pressing Shift+Enter) will list all files under the input directory\n",
    "\n",
    "import os\n",
    "for dirname, _, filenames in os.walk('/kaggle/input'):\n",
    "    for filename in filenames:\n",
    "        print(os.path.join(dirname, filename))\n",
    "\n",
    "# You can write up to 20GB to the current directory (/kaggle/working/) that gets preserved as output when you create a version using \"Save & Run All\" \n",
    "# You can also write temporary files to /kaggle/temp/, but they won't be saved outside of the current session"
   ]
  },
  {
   "cell_type": "code",
   "execution_count": 2,
   "id": "2dc2fc3e",
   "metadata": {
    "execution": {
     "iopub.execute_input": "2022-01-17T07:41:50.578430Z",
     "iopub.status.busy": "2022-01-17T07:41:50.577677Z",
     "iopub.status.idle": "2022-01-17T07:41:50.583205Z",
     "shell.execute_reply": "2022-01-17T07:41:50.583727Z",
     "shell.execute_reply.started": "2022-01-17T07:15:59.080341Z"
    },
    "papermill": {
     "duration": 0.013446,
     "end_time": "2022-01-17T07:41:50.583926",
     "exception": false,
     "start_time": "2022-01-17T07:41:50.570480",
     "status": "completed"
    },
    "tags": []
   },
   "outputs": [
    {
     "name": "stdout",
     "output_type": "stream",
     "text": [
      "hi\n"
     ]
    }
   ],
   "source": [
    "print(\"hi\")"
   ]
  },
  {
   "cell_type": "code",
   "execution_count": null,
   "id": "50101805",
   "metadata": {
    "papermill": {
     "duration": 0.003975,
     "end_time": "2022-01-17T07:41:50.592675",
     "exception": false,
     "start_time": "2022-01-17T07:41:50.588700",
     "status": "completed"
    },
    "tags": []
   },
   "outputs": [],
   "source": []
  }
 ],
 "metadata": {
  "kernelspec": {
   "display_name": "Python 3",
   "language": "python",
   "name": "python3"
  },
  "language_info": {
   "codemirror_mode": {
    "name": "ipython",
    "version": 3
   },
   "file_extension": ".py",
   "mimetype": "text/x-python",
   "name": "python",
   "nbconvert_exporter": "python",
   "pygments_lexer": "ipython3",
   "version": "3.7.12"
  },
  "papermill": {
   "default_parameters": {},
   "duration": 11.923321,
   "end_time": "2022-01-17T07:41:51.510069",
   "environment_variables": {},
   "exception": null,
   "input_path": "__notebook__.ipynb",
   "output_path": "__notebook__.ipynb",
   "parameters": {},
   "start_time": "2022-01-17T07:41:39.586748",
   "version": "2.3.3"
  }
 },
 "nbformat": 4,
 "nbformat_minor": 5
}
